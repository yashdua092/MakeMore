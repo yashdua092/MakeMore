{
 "cells": [
  {
   "cell_type": "code",
   "execution_count": 32,
   "id": "32c1540e",
   "metadata": {},
   "outputs": [],
   "source": [
    "import torch\n",
    "import torch.nn.functional as F\n",
    "import matplotlib.pyplot as plt\n",
    "%matplotlib inline"
   ]
  },
  {
   "cell_type": "code",
   "execution_count": 33,
   "id": "01cc5abf",
   "metadata": {},
   "outputs": [
    {
     "name": "stdout",
     "output_type": "stream",
     "text": [
      "['emma', 'olivia', 'ava', 'isabella', 'sophia', 'charlotte', 'mia', 'amelia']\n"
     ]
    },
    {
     "data": {
      "text/plain": [
       "list"
      ]
     },
     "execution_count": 33,
     "metadata": {},
     "output_type": "execute_result"
    }
   ],
   "source": [
    "# reading in all the words\n",
    "words = open('names.txt', 'r').read().splitlines()\n",
    "print(words[:8])\n",
    "type(words) # splitlines returns a list"
   ]
  },
  {
   "cell_type": "code",
   "execution_count": 34,
   "id": "889c2af9",
   "metadata": {},
   "outputs": [
    {
     "data": {
      "text/plain": [
       "32033"
      ]
     },
     "execution_count": 34,
     "metadata": {},
     "output_type": "execute_result"
    }
   ],
   "source": [
    "len(words)"
   ]
  },
  {
   "cell_type": "code",
   "execution_count": 35,
   "id": "3204fdc7",
   "metadata": {},
   "outputs": [
    {
     "name": "stdout",
     "output_type": "stream",
     "text": [
      "{1: 'a', 2: 'b', 3: 'c', 4: 'd', 5: 'e', 6: 'f', 7: 'g', 8: 'h', 9: 'i', 10: 'j', 11: 'k', 12: 'l', 13: 'm', 14: 'n', 15: 'o', 16: 'p', 17: 'q', 18: 'r', 19: 's', 20: 't', 21: 'u', 22: 'v', 23: 'w', 24: 'x', 25: 'y', 26: 'z', 0: '.'}\n"
     ]
    }
   ],
   "source": [
    "# building the vocanulary of characters and mappings to/from integers\n",
    "chars = sorted(list(set(''.join(words))))\n",
    "stoi = {s : i+1 for i, s in enumerate(chars)}\n",
    "stoi['.'] = 0\n",
    "itos = {i:s for s, i in stoi.items()}\n",
    "print(itos)"
   ]
  },
  {
   "cell_type": "code",
   "execution_count": 88,
   "id": "5ff4232d",
   "metadata": {},
   "outputs": [],
   "source": [
    "# building the dataset\n",
    "\n",
    "block_size = 3 # context lenght: how many characters do we take to predict the next one(building character level four-gram model)\n",
    "X, Y = [], []\n",
    "for w in words:\n",
    "    \n",
    "    #print(w)\n",
    "    context = [0] * block_size # gives [0, 0, 0] as block_size=3\n",
    "    for ch in w + '.':\n",
    "        ix = stoi[ch]\n",
    "        X.append(context)\n",
    "        Y.append(ix)\n",
    "        #print(''.join(itos[i] for i in context), '----->', itos[ix])\n",
    "        context = context[1:] + [ix]\n",
    "\n",
    "X = torch.tensor(X)\n",
    "Y = torch.tensor(Y)"
   ]
  },
  {
   "cell_type": "code",
   "execution_count": 89,
   "id": "31efbfdb",
   "metadata": {},
   "outputs": [
    {
     "data": {
      "text/plain": [
       "(torch.Size([228146, 3]), torch.int64, torch.Size([228146]), torch.int64)"
      ]
     },
     "execution_count": 89,
     "metadata": {},
     "output_type": "execute_result"
    }
   ],
   "source": [
    "X.shape, X.dtype, Y.shape, Y.dtype"
   ]
  },
  {
   "cell_type": "code",
   "execution_count": 38,
   "id": "949a8bbc",
   "metadata": {},
   "outputs": [],
   "source": [
    "C = torch.randn((27, 2)) # grabbing all characters in 2d space"
   ]
  },
  {
   "cell_type": "code",
   "execution_count": 39,
   "id": "3d5516b7",
   "metadata": {},
   "outputs": [
    {
     "data": {
      "text/plain": [
       "tensor([ 0.0332, -0.1855])"
      ]
     },
     "execution_count": 39,
     "metadata": {},
     "output_type": "execute_result"
    }
   ],
   "source": [
    "# in the previous model made one_hot vectors opf dim (1, 27) for each alphabet being fed to the model to get the next alpha\n",
    "# here only 2d vector already made using torch.randn function\n",
    "C[5] # 5th alphabet's vector, # This is what will be fed to the model"
   ]
  },
  {
   "cell_type": "code",
   "execution_count": 40,
   "id": "3fcfae3f",
   "metadata": {},
   "outputs": [
    {
     "data": {
      "text/plain": [
       "tensor([ 0.0332, -0.1855])"
      ]
     },
     "execution_count": 40,
     "metadata": {},
     "output_type": "execute_result"
    }
   ],
   "source": [
    "# if one_hot encoded And * C ---> gives the same result\n",
    "F.one_hot(torch.tensor(5), num_classes = 27).float() @ C # dot product of [0,0,0,0,1,0,0...0] @ C(27,2) will give C[5] only "
   ]
  },
  {
   "cell_type": "code",
   "execution_count": 41,
   "id": "c4a3e8af",
   "metadata": {},
   "outputs": [
    {
     "name": "stdout",
     "output_type": "stream",
     "text": [
      "tensor([[ 0.0332, -0.1855],\n",
      "        [ 2.2083,  0.1452],\n",
      "        [-0.0978, -0.2302]])\n",
      "tensor([[ 0.0332, -0.1855],\n",
      "        [ 2.2083,  0.1452],\n",
      "        [-0.0978, -0.2302],\n",
      "        [-0.0978, -0.2302],\n",
      "        [-0.0978, -0.2302]])\n"
     ]
    },
    {
     "data": {
      "text/plain": [
       "torch.Size([32, 3, 2])"
      ]
     },
     "execution_count": 41,
     "metadata": {},
     "output_type": "execute_result"
    }
   ],
   "source": [
    "# how to ask for all the character embeddings?\n",
    "\n",
    "# can poss a list\n",
    "print(C[[5, 6, 7]])\n",
    "\n",
    "# tensor of list\n",
    "print(C[torch.tensor([5, 6, 7, 7, 7])])\n",
    "\n",
    "# can give multidim vector as well\n",
    "C[X].shape"
   ]
  },
  {
   "cell_type": "code",
   "execution_count": 42,
   "id": "36b83965",
   "metadata": {},
   "outputs": [],
   "source": [
    "# X[13,2]"
   ]
  },
  {
   "cell_type": "code",
   "execution_count": 43,
   "id": "3bfba95e",
   "metadata": {},
   "outputs": [],
   "source": [
    "# C[X][13,2], C[1] # both equal"
   ]
  },
  {
   "cell_type": "code",
   "execution_count": 44,
   "id": "c8644042",
   "metadata": {},
   "outputs": [],
   "source": [
    "# C[X].shape # passed (32,3) to C(27,2) to find their embedding"
   ]
  },
  {
   "cell_type": "code",
   "execution_count": 45,
   "id": "151ce4fd",
   "metadata": {},
   "outputs": [
    {
     "data": {
      "text/plain": [
       "torch.Size([32, 3, 2])"
      ]
     },
     "execution_count": 45,
     "metadata": {},
     "output_type": "execute_result"
    }
   ],
   "source": [
    "# creating embedding of our input\n",
    "emb = C[X]\n",
    "emb.shape"
   ]
  },
  {
   "cell_type": "code",
   "execution_count": 46,
   "id": "a09cc4d1",
   "metadata": {},
   "outputs": [],
   "source": [
    "W1 = torch.randn((6, 100)) # 6 as 2dim embedding of each alpha and have 3 of them, 100 neurons in the first hidden layer or the second layer if we consider embedding layer as the first which creates embedding of the alphabets\n",
    "b1 = torch.randn(100) # need 100 biases"
   ]
  },
  {
   "cell_type": "code",
   "execution_count": 16,
   "id": "e49ea447",
   "metadata": {},
   "outputs": [
    {
     "ename": "RuntimeError",
     "evalue": "mat1 and mat2 shapes cannot be multiplied (96x2 and 6x100)",
     "output_type": "error",
     "traceback": [
      "\u001b[1;31m---------------------------------------------------------------------------\u001b[0m",
      "\u001b[1;31mRuntimeError\u001b[0m                              Traceback (most recent call last)",
      "\u001b[1;32m~\\AppData\\Local\\Temp/ipykernel_18868/1986319548.py\u001b[0m in \u001b[0;36m<module>\u001b[1;34m\u001b[0m\n\u001b[1;32m----> 1\u001b[1;33m \u001b[0memb\u001b[0m \u001b[1;33m@\u001b[0m \u001b[0mW1\u001b[0m \u001b[1;33m+\u001b[0m \u001b[0mb1\u001b[0m \u001b[1;31m# dot product won't happen\u001b[0m\u001b[1;33m\u001b[0m\u001b[1;33m\u001b[0m\u001b[0m\n\u001b[0m",
      "\u001b[1;31mRuntimeError\u001b[0m: mat1 and mat2 shapes cannot be multiplied (96x2 and 6x100)"
     ]
    }
   ],
   "source": [
    "emb @ W1 + b1 # dot product won't happen"
   ]
  },
  {
   "cell_type": "code",
   "execution_count": 47,
   "id": "1137e519",
   "metadata": {},
   "outputs": [
    {
     "data": {
      "text/plain": [
       "torch.Size([32, 2])"
      ]
     },
     "execution_count": 47,
     "metadata": {},
     "output_type": "execute_result"
    }
   ],
   "source": [
    "# concatenation needs to be done\n",
    "emb[:, 0, :].shape # it gives the 1st alphabet embedding in all the X ie 1st alphabet in all the triplets that we are feeding to the model"
   ]
  },
  {
   "cell_type": "code",
   "execution_count": 48,
   "id": "67964fa4",
   "metadata": {},
   "outputs": [
    {
     "data": {
      "text/plain": [
       "torch.Size([32, 6])"
      ]
     },
     "execution_count": 48,
     "metadata": {},
     "output_type": "execute_result"
    }
   ],
   "source": [
    "# so:\n",
    "torch.cat([emb[:, 0, :], emb[:, 1, :], emb[:, 2, :]], 1).shape # concatenate along dim 1"
   ]
  },
  {
   "cell_type": "code",
   "execution_count": 49,
   "id": "e3349227",
   "metadata": {},
   "outputs": [
    {
     "data": {
      "text/plain": [
       "(tensor([1, 4, 7]), tensor([2, 5, 8]), tensor([3, 6, 9]))"
      ]
     },
     "execution_count": 49,
     "metadata": {},
     "output_type": "execute_result"
    }
   ],
   "source": [
    "A = torch.tensor([[1,2,3], [4,5,6], [7,8,9]])\n",
    "torch.unbind(A,1)"
   ]
  },
  {
   "cell_type": "code",
   "execution_count": 50,
   "id": "b71f6337",
   "metadata": {},
   "outputs": [
    {
     "data": {
      "text/plain": [
       "torch.Size([32, 6])"
      ]
     },
     "execution_count": 50,
     "metadata": {},
     "output_type": "execute_result"
    }
   ],
   "source": [
    "# pytorch funtion that does the same thing as the above Cat code\n",
    "# also helps as code would remain same if block_size is changed\n",
    "torch.cat(torch.unbind(emb, 1), 1).shape # unbinds along the dimension from th original matrix.(32,3,2) will..."
   ]
  },
  {
   "cell_type": "code",
   "execution_count": 51,
   "id": "d20d7291",
   "metadata": {},
   "outputs": [
    {
     "data": {
      "text/plain": [
       "tensor([[ 0.8379, -1.3315,  0.8379, -1.3315,  0.8379, -1.3315],\n",
       "        [ 0.8379, -1.3315,  0.8379, -1.3315,  0.0332, -0.1855],\n",
       "        [ 0.8379, -1.3315,  0.0332, -0.1855,  1.3219,  0.0708],\n",
       "        [ 0.0332, -0.1855,  1.3219,  0.0708,  1.3219,  0.0708],\n",
       "        [ 1.3219,  0.0708,  1.3219,  0.0708, -1.5217, -1.3803],\n",
       "        [ 0.8379, -1.3315,  0.8379, -1.3315,  0.8379, -1.3315],\n",
       "        [ 0.8379, -1.3315,  0.8379, -1.3315, -1.2489,  0.5632],\n",
       "        [ 0.8379, -1.3315, -1.2489,  0.5632, -0.6765,  1.0918],\n",
       "        [-1.2489,  0.5632, -0.6765,  1.0918, -1.8088,  0.8582],\n",
       "        [-0.6765,  1.0918, -1.8088,  0.8582, -0.4232,  0.2408],\n",
       "        [-1.8088,  0.8582, -0.4232,  0.2408, -1.8088,  0.8582],\n",
       "        [-0.4232,  0.2408, -1.8088,  0.8582, -1.5217, -1.3803],\n",
       "        [ 0.8379, -1.3315,  0.8379, -1.3315,  0.8379, -1.3315],\n",
       "        [ 0.8379, -1.3315,  0.8379, -1.3315, -1.5217, -1.3803],\n",
       "        [ 0.8379, -1.3315, -1.5217, -1.3803, -0.4232,  0.2408],\n",
       "        [-1.5217, -1.3803, -0.4232,  0.2408, -1.5217, -1.3803],\n",
       "        [ 0.8379, -1.3315,  0.8379, -1.3315,  0.8379, -1.3315],\n",
       "        [ 0.8379, -1.3315,  0.8379, -1.3315, -1.8088,  0.8582],\n",
       "        [ 0.8379, -1.3315, -1.8088,  0.8582, -0.3233, -1.1435],\n",
       "        [-1.8088,  0.8582, -0.3233, -1.1435, -1.5217, -1.3803],\n",
       "        [-0.3233, -1.1435, -1.5217, -1.3803, -0.6386, -0.9856],\n",
       "        [-1.5217, -1.3803, -0.6386, -0.9856,  0.0332, -0.1855],\n",
       "        [-0.6386, -0.9856,  0.0332, -0.1855, -0.6765,  1.0918],\n",
       "        [ 0.0332, -0.1855, -0.6765,  1.0918, -0.6765,  1.0918],\n",
       "        [-0.6765,  1.0918, -0.6765,  1.0918, -1.5217, -1.3803],\n",
       "        [ 0.8379, -1.3315,  0.8379, -1.3315,  0.8379, -1.3315],\n",
       "        [ 0.8379, -1.3315,  0.8379, -1.3315, -0.3233, -1.1435],\n",
       "        [ 0.8379, -1.3315, -0.3233, -1.1435, -1.2489,  0.5632],\n",
       "        [-0.3233, -1.1435, -1.2489,  0.5632, -0.4180,  0.8517],\n",
       "        [-1.2489,  0.5632, -0.4180,  0.8517, -0.1740, -1.1739],\n",
       "        [-0.4180,  0.8517, -0.1740, -1.1739, -1.8088,  0.8582],\n",
       "        [-0.1740, -1.1739, -1.8088,  0.8582, -1.5217, -1.3803]])"
      ]
     },
     "execution_count": 51,
     "metadata": {},
     "output_type": "execute_result"
    }
   ],
   "source": [
    "# the best way to do this concatenation is \n",
    "emb.view(32, 6) # also cat allocates whole new memory"
   ]
  },
  {
   "cell_type": "code",
   "execution_count": 52,
   "id": "5bcbff0b",
   "metadata": {},
   "outputs": [
    {
     "data": {
      "text/plain": [
       "tensor([[True, True, True, True, True, True],\n",
       "        [True, True, True, True, True, True],\n",
       "        [True, True, True, True, True, True],\n",
       "        [True, True, True, True, True, True],\n",
       "        [True, True, True, True, True, True],\n",
       "        [True, True, True, True, True, True],\n",
       "        [True, True, True, True, True, True],\n",
       "        [True, True, True, True, True, True],\n",
       "        [True, True, True, True, True, True],\n",
       "        [True, True, True, True, True, True],\n",
       "        [True, True, True, True, True, True],\n",
       "        [True, True, True, True, True, True],\n",
       "        [True, True, True, True, True, True],\n",
       "        [True, True, True, True, True, True],\n",
       "        [True, True, True, True, True, True],\n",
       "        [True, True, True, True, True, True],\n",
       "        [True, True, True, True, True, True],\n",
       "        [True, True, True, True, True, True],\n",
       "        [True, True, True, True, True, True],\n",
       "        [True, True, True, True, True, True],\n",
       "        [True, True, True, True, True, True],\n",
       "        [True, True, True, True, True, True],\n",
       "        [True, True, True, True, True, True],\n",
       "        [True, True, True, True, True, True],\n",
       "        [True, True, True, True, True, True],\n",
       "        [True, True, True, True, True, True],\n",
       "        [True, True, True, True, True, True],\n",
       "        [True, True, True, True, True, True],\n",
       "        [True, True, True, True, True, True],\n",
       "        [True, True, True, True, True, True],\n",
       "        [True, True, True, True, True, True],\n",
       "        [True, True, True, True, True, True]])"
      ]
     },
     "execution_count": 52,
     "metadata": {},
     "output_type": "execute_result"
    }
   ],
   "source": [
    "emb.view(32, 6) == torch.cat(torch.unbind(emb, 1), 1)"
   ]
  },
  {
   "cell_type": "code",
   "execution_count": 53,
   "id": "ab03e68c",
   "metadata": {},
   "outputs": [
    {
     "data": {
      "text/plain": [
       "tensor([[-0.6245, -0.8677, -0.4374,  ...,  0.8716, -0.9997, -1.0000],\n",
       "        [-0.9892, -0.0535,  0.2852,  ...,  0.8536, -0.9997, -0.9785],\n",
       "        [ 0.8342, -0.9852, -0.8877,  ...,  0.7856, -0.9987, -0.7661],\n",
       "        ...,\n",
       "        [ 0.9966,  0.7675,  0.8316,  ..., -0.8744, -0.2493, -1.0000],\n",
       "        [-1.0000,  0.9997,  0.9975,  ..., -0.8977, -0.8054,  0.9946],\n",
       "        [ 0.9972, -0.3696,  0.7428,  ..., -0.9957, -0.0036, -1.0000]])"
      ]
     },
     "execution_count": 53,
     "metadata": {},
     "output_type": "execute_result"
    }
   ],
   "source": [
    "h = torch.tanh(emb.view(-1, 6) @ W1 + b1) #  -1(will derive the shape itself) or emb.shape[0](will give 32), helps to generalize for different batch-sizes\n",
    "h"
   ]
  },
  {
   "cell_type": "code",
   "execution_count": 54,
   "id": "bbae0ef8",
   "metadata": {},
   "outputs": [
    {
     "data": {
      "text/plain": [
       "torch.Size([32, 100])"
      ]
     },
     "execution_count": 54,
     "metadata": {},
     "output_type": "execute_result"
    }
   ],
   "source": [
    "h.shape"
   ]
  },
  {
   "cell_type": "code",
   "execution_count": 55,
   "id": "5985d455",
   "metadata": {},
   "outputs": [],
   "source": [
    "W2 = torch.randn((100, 27))\n",
    "b2 = torch.randn(27)"
   ]
  },
  {
   "cell_type": "code",
   "execution_count": 56,
   "id": "567be4f9",
   "metadata": {},
   "outputs": [],
   "source": [
    "logits = h @ W2 + b2"
   ]
  },
  {
   "cell_type": "code",
   "execution_count": 57,
   "id": "fba27737",
   "metadata": {},
   "outputs": [
    {
     "data": {
      "text/plain": [
       "torch.Size([32, 27])"
      ]
     },
     "execution_count": 57,
     "metadata": {},
     "output_type": "execute_result"
    }
   ],
   "source": [
    "logits.shape"
   ]
  },
  {
   "cell_type": "code",
   "execution_count": 58,
   "id": "cdc0e303",
   "metadata": {},
   "outputs": [],
   "source": [
    "counts = logits.exp()"
   ]
  },
  {
   "cell_type": "code",
   "execution_count": 59,
   "id": "8c24315a",
   "metadata": {},
   "outputs": [],
   "source": [
    "prob = counts / counts.sum(1, keepdims = True)"
   ]
  },
  {
   "cell_type": "code",
   "execution_count": 60,
   "id": "49f15a47",
   "metadata": {},
   "outputs": [
    {
     "data": {
      "text/plain": [
       "torch.Size([32, 27])"
      ]
     },
     "execution_count": 60,
     "metadata": {},
     "output_type": "execute_result"
    }
   ],
   "source": [
    "prob.shape"
   ]
  },
  {
   "cell_type": "code",
   "execution_count": 61,
   "id": "64b1b4b1",
   "metadata": {},
   "outputs": [
    {
     "data": {
      "text/plain": [
       "tensor(1.0000)"
      ]
     },
     "execution_count": 61,
     "metadata": {},
     "output_type": "execute_result"
    }
   ],
   "source": [
    "prob[0].sum()"
   ]
  },
  {
   "cell_type": "code",
   "execution_count": 62,
   "id": "f0d768b2",
   "metadata": {},
   "outputs": [
    {
     "data": {
      "text/plain": [
       "tensor([5.9573e-04, 1.3318e-04, 1.6247e-07, 4.5882e-02, 1.8418e-15, 6.3744e-10,\n",
       "        2.2312e-11, 2.2356e-08, 2.7559e-08, 1.2859e-05, 4.6639e-12, 6.9944e-02,\n",
       "        5.7369e-01, 1.9839e-11, 2.4537e-07, 1.4028e-04, 4.3274e-05, 1.7038e-06,\n",
       "        2.6631e-06, 5.4828e-05, 1.3502e-03, 1.7034e-04, 7.1755e-11, 6.7335e-09,\n",
       "        1.7440e-04, 1.7005e-05, 5.5612e-09, 5.7658e-09, 4.6060e-06, 1.3403e-02,\n",
       "        2.2551e-08, 1.9230e-01])"
      ]
     },
     "execution_count": 62,
     "metadata": {},
     "output_type": "execute_result"
    }
   ],
   "source": [
    "# need to get the prob of the correct Ys as assigned by the model\n",
    "prob[torch.arange(32), Y] # will basically take as (0,5), (1, 13), (2, 13), (3, 1)....(31, 0)"
   ]
  },
  {
   "cell_type": "code",
   "execution_count": 63,
   "id": "f41bd8b4",
   "metadata": {},
   "outputs": [
    {
     "data": {
      "text/plain": [
       "tensor([ 5, 13, 13,  1,  0, 15, 12,  9, 22,  9,  1,  0,  1, 22,  1,  0,  9, 19,\n",
       "         1,  2,  5, 12, 12,  1,  0, 19, 15, 16,  8,  9,  1,  0])"
      ]
     },
     "execution_count": 63,
     "metadata": {},
     "output_type": "execute_result"
    }
   ],
   "source": [
    "Y"
   ]
  },
  {
   "cell_type": "code",
   "execution_count": 64,
   "id": "a1f5decc",
   "metadata": {},
   "outputs": [
    {
     "data": {
      "text/plain": [
       "tensor(13.6227)"
      ]
     },
     "execution_count": 64,
     "metadata": {},
     "output_type": "execute_result"
    }
   ],
   "source": [
    "loss = -prob[torch.arange(32), Y].log().mean()\n",
    "loss"
   ]
  },
  {
   "cell_type": "code",
   "execution_count": 65,
   "id": "b0014a67",
   "metadata": {},
   "outputs": [
    {
     "data": {
      "text/plain": [
       "tensor(13.6227)"
      ]
     },
     "execution_count": 65,
     "metadata": {},
     "output_type": "execute_result"
    }
   ],
   "source": [
    "# these are the probabilities that need to be maximized, therefore log prob should also be maximized and -log_prob should be minimized\n",
    "# hence the loss function, also called the cross entropy loss function.\n",
    "F.cross_entropy(logits, Y) # same as above, need to pass in the logits or counts and true labels"
   ]
  },
  {
   "cell_type": "code",
   "execution_count": 66,
   "id": "13116c77",
   "metadata": {},
   "outputs": [],
   "source": [
    "# -------------------------- PUTTING ALL TOGETHER ------------------------------ #"
   ]
  },
  {
   "cell_type": "code",
   "execution_count": null,
   "id": "f8d7ac6f",
   "metadata": {},
   "outputs": [],
   "source": [
    "# training model on the whole data right now, could memorize the whole training set, and would give higher loss on unseen data\n",
    "# so 3 sets\n",
    "\n",
    "# training, validation, test\n",
    "# 80, 10, 10%\n",
    "# training - used for tuning the parameters\n",
    "# dev / validation - used for tuning hyperparameters ie neurons in 2nd layer, embedding size, regularization\n",
    "# testing - for testing the model"
   ]
  },
  {
   "cell_type": "code",
   "execution_count": 155,
   "id": "259f2b90",
   "metadata": {},
   "outputs": [
    {
     "name": "stdout",
     "output_type": "stream",
     "text": [
      "torch.Size([182512, 3]) torch.Size([182512])\n",
      "torch.Size([22860, 3]) torch.Size([22860])\n",
      "torch.Size([22774, 3]) torch.Size([22774])\n"
     ]
    }
   ],
   "source": [
    "# making the 3 sets\n",
    "\n",
    "def build_dataset(words):\n",
    "    block_size = 3\n",
    "    X, Y = [], []\n",
    "    for w in words:\n",
    "        \n",
    "        context = [0] * block_size\n",
    "        for ch in w + '.':\n",
    "            ix = stoi[ch]\n",
    "            X.append(context)\n",
    "            Y.append(ix)\n",
    "            context = context[1:] + [ix]\n",
    "            \n",
    "    X = torch.tensor(X)\n",
    "    Y = torch.tensor(Y)\n",
    "    print(X.shape, Y.shape)\n",
    "    return X, Y\n",
    "\n",
    "import random\n",
    "random.seed(42)\n",
    "random.shuffle(words)\n",
    "n1 = int(0.8*len(words))\n",
    "n2 = int(0.9*len(words))\n",
    "\n",
    "Xtr, Ytr = build_dataset(words[:n1])\n",
    "Xdev, Ydev = build_dataset(words[n1:n2])\n",
    "Xte, Yte = build_dataset(words[n2:])"
   ]
  },
  {
   "cell_type": "code",
   "execution_count": 177,
   "id": "cb515ad2",
   "metadata": {},
   "outputs": [
    {
     "data": {
      "text/plain": [
       "(torch.Size([182512, 3]), torch.Size([182512]))"
      ]
     },
     "execution_count": 177,
     "metadata": {},
     "output_type": "execute_result"
    }
   ],
   "source": [
    "Xtr.shape, Ytr.shape"
   ]
  },
  {
   "cell_type": "code",
   "execution_count": 211,
   "id": "67f07031",
   "metadata": {},
   "outputs": [],
   "source": [
    "g = torch.Generator().manual_seed(2147483647)\n",
    "C = torch.randn((27, 10), generator = g) # might be placing a lot of characters in 2d space, hence increasing to 10\n",
    "W1 = torch.randn((30, 200), generator = g) #3 2 dimensional vectors being fed as i/p\n",
    "b1 = torch.randn(200, generator = g)\n",
    "W2 = torch.randn((200, 27), generator = g)\n",
    "b2 = torch.randn(27, generator = g)\n",
    "parameters = [C, W1, b1, W2, b2]"
   ]
  },
  {
   "cell_type": "code",
   "execution_count": 212,
   "id": "8d7de772",
   "metadata": {},
   "outputs": [
    {
     "data": {
      "text/plain": [
       "11897"
      ]
     },
     "execution_count": 212,
     "metadata": {},
     "output_type": "execute_result"
    }
   ],
   "source": [
    "sum(p.nelement() for p in parameters)"
   ]
  },
  {
   "cell_type": "code",
   "execution_count": 213,
   "id": "5f8984cb",
   "metadata": {},
   "outputs": [],
   "source": [
    "for p in parameters:\n",
    "    p.requires_grad = True"
   ]
  },
  {
   "cell_type": "code",
   "execution_count": 170,
   "id": "31140100",
   "metadata": {},
   "outputs": [],
   "source": [
    "lre = torch.linspace(-3, 0, 1000)\n",
    "lrs = 10**lre"
   ]
  },
  {
   "cell_type": "code",
   "execution_count": 214,
   "id": "3f8ed1d6",
   "metadata": {},
   "outputs": [],
   "source": [
    "lri = []\n",
    "lossi = []\n",
    "stepi = []"
   ]
  },
  {
   "cell_type": "code",
   "execution_count": 218,
   "id": "b5bb65f0",
   "metadata": {},
   "outputs": [],
   "source": [
    "for i in range(50000):\n",
    "    \n",
    "    # minibatch construct\n",
    "    ix = torch.randint(0, Xtr.shape[0], (32,)) # it's better to have an approximate gradient and make more steps then it is to evaluate the exact gradient and take lesser steps\n",
    "    \n",
    "    # forward pass\n",
    "    emb = C[Xtr[ix]] #(32, 3, 2) , got 3 alphabets in ix\n",
    "    h = torch.tanh(emb.view(-1, 30) @ W1 + b1) #(32, 100) # emb.view(-1, 6) to view(-1, 30)\n",
    "    logits = h @ W2 + b2 #(32, 27)\n",
    "    loss = F.cross_entropy(logits, Ytr[ix]) # y[ix] got the aplha after the three alphabets in X[ix]\n",
    "#     print(loss.item())\n",
    "    \n",
    "    # backward pass\n",
    "    for p in parameters:\n",
    "        p.grad = None\n",
    "    loss.backward()\n",
    "        \n",
    "    # update\n",
    "#     lr = lrs[i]\n",
    "    lr = 0.01\n",
    "    for p in parameters:\n",
    "        p.data += -lr * p.grad\n",
    "        \n",
    "    #track stats\n",
    "    #lri.append(lr)\n",
    "    stepi.append(i)\n",
    "    lossi.append(loss.log10().item())\n",
    "        \n",
    "#print(loss.item()) # on a mini batch\n",
    "\n",
    "# took the whole words list and running again"
   ]
  },
  {
   "cell_type": "code",
   "execution_count": 219,
   "id": "4f8c1036",
   "metadata": {},
   "outputs": [
    {
     "data": {
      "text/plain": [
       "[<matplotlib.lines.Line2D at 0x1bd04b32d60>]"
      ]
     },
     "execution_count": 219,
     "metadata": {},
     "output_type": "execute_result"
    },
    {
     "data": {
      "image/png": "[encoded data removed]",
      "text/plain": [
       "<Figure size 432x288 with 1 Axes>"
      ]
     },
     "metadata": {
      "needs_background": "light"
     },
     "output_type": "display_data"
    }
   ],
   "source": [
    "plt.plot(stepi, lossi)"
   ]
  },
  {
   "cell_type": "code",
   "execution_count": 192,
   "id": "c3a1e252",
   "metadata": {},
   "outputs": [
    {
     "data": {
      "text/plain": [
       "[<matplotlib.lines.Line2D at 0x1bd04e53490>]"
      ]
     },
     "execution_count": 192,
     "metadata": {},
     "output_type": "execute_result"
    },
    {
     "data": {
      "image/png": "[encoded data removed]",
      "text/plain": [
       "<Figure size 432x288 with 1 Axes>"
      ]
     },
     "metadata": {
      "needs_background": "light"
     },
     "output_type": "display_data"
    }
   ],
   "source": [
    "plt.plot(stepi, lossi)"
   ]
  },
  {
   "cell_type": "code",
   "execution_count": 175,
   "id": "ef48afa4",
   "metadata": {},
   "outputs": [
    {
     "name": "stdout",
     "output_type": "stream",
     "text": [
      "2.4396114349365234\n"
     ]
    }
   ],
   "source": [
    "# print(loss.item())"
   ]
  },
  {
   "cell_type": "code",
   "execution_count": 221,
   "id": "93943fa6",
   "metadata": {},
   "outputs": [
    {
     "data": {
      "text/plain": [
       "tensor(2.1895, grad_fn=<NllLossBackward0>)"
      ]
     },
     "execution_count": 221,
     "metadata": {},
     "output_type": "execute_result"
    }
   ],
   "source": [
    "# loss on training set\n",
    "emb = C[Xtr] \n",
    "h = torch.tanh(emb.view(-1, 30) @ W1 + b1)\n",
    "logits = h @ W2 + b2\n",
    "loss = F.cross_entropy(logits, Ytr)\n",
    "loss"
   ]
  },
  {
   "cell_type": "code",
   "execution_count": 220,
   "id": "4bec2433",
   "metadata": {},
   "outputs": [
    {
     "data": {
      "text/plain": [
       "tensor(2.2136, grad_fn=<NllLossBackward0>)"
      ]
     },
     "execution_count": 220,
     "metadata": {},
     "output_type": "execute_result"
    }
   ],
   "source": [
    "# above is loss of a mini batch\n",
    "# this is ths loss on the whole dataset\n",
    "# evaluating using dev set here, so weights are already updated through previous block of code.\n",
    "# losses almost equal hence not underfitting, scaling the model.(if scaling might take longer to converge)\n",
    "\n",
    "emb = C[Xdev] \n",
    "h = torch.tanh(emb.view(-1, 30) @ W1 + b1)\n",
    "logits = h @ W2 + b2\n",
    "loss = F.cross_entropy(logits, Ydev)\n",
    "loss\n",
    "# running above code 5 times ie 5 times backpropagation got loss of 2.37, could decay loss as well to see how loss is changing."
   ]
  },
  {
   "cell_type": "code",
   "execution_count": 133,
   "id": "553e7fa5",
   "metadata": {},
   "outputs": [
    {
     "data": {
      "text/plain": [
       "[<matplotlib.lines.Line2D at 0x1bd4bd4a850>]"
      ]
     },
     "execution_count": 133,
     "metadata": {},
     "output_type": "execute_result"
    },
    {
     "data": {
      "image/png": "[encoded data removed]",
      "text/plain": [
       "<Figure size 432x288 with 1 Axes>"
      ]
     },
     "metadata": {
      "needs_background": "light"
     },
     "output_type": "display_data"
    }
   ],
   "source": [
    "plt.plot(lre, lossi)"
   ]
  },
  {
   "cell_type": "code",
   "execution_count": 196,
   "id": "36959457",
   "metadata": {},
   "outputs": [
    {
     "data": {
      "text/plain": [
       "torch.Size([27, 2])"
      ]
     },
     "execution_count": 196,
     "metadata": {},
     "output_type": "execute_result"
    }
   ],
   "source": [
    "C.shape # embedding matrix"
   ]
  },
  {
   "cell_type": "code",
   "execution_count": 194,
   "id": "ff072d42",
   "metadata": {},
   "outputs": [
    {
     "data": {
      "image/png": "[encoded data removed]",
      "text/plain": [
       "<Figure size 576x576 with 1 Axes>"
      ]
     },
     "metadata": {
      "needs_background": "light"
     },
     "output_type": "display_data"
    }
   ],
   "source": [
    "plt.figure(figsize=(8,8))\n",
    "plt.scatter(C[:, 0].data, C[:, 1].data, s=200)\n",
    "for i in range(C.shape[0]):\n",
    "    plt.text(C[i,0].item(), C[i,1].item(), itos[i], ha=\"center\",va=\"center\", color=\"white\") #(pos_x, pos_y, character)\n",
    "plt.grid('minor')\n",
    "\n",
    "# learned and clusterred somewhat"
   ]
  },
  {
   "cell_type": "markdown",
   "id": "0cc0d3e0",
   "metadata": {},
   "source": [
    "##### using the above plot(b/w loss and learning rate) we can figure which learning rate would be best for our model."
   ]
  },
  {
   "cell_type": "code",
   "execution_count": 101,
   "id": "610ea4cb",
   "metadata": {},
   "outputs": [
    {
     "data": {
      "text/plain": [
       "tensor([3, 6, 0, 4, 1])"
      ]
     },
     "execution_count": 101,
     "metadata": {},
     "output_type": "execute_result"
    }
   ],
   "source": [
    "# # constructing mini batches by randomly taking samples of 32\n",
    "# ix = torch.randint(0, 10, (5,)) # gives 5 random int b/w [0, 10) , how many needs to be passed as tuple\n",
    "# ix"
   ]
  },
  {
   "cell_type": "code",
   "execution_count": 106,
   "id": "ae9947eb",
   "metadata": {},
   "outputs": [
    {
     "data": {
      "text/plain": [
       "228146"
      ]
     },
     "execution_count": 106,
     "metadata": {},
     "output_type": "execute_result"
    }
   ],
   "source": [
    "# X.shape[0]"
   ]
  },
  {
   "cell_type": "code",
   "execution_count": 107,
   "id": "799374ee",
   "metadata": {
    "collapsed": true
   },
   "outputs": [
    {
     "data": {
      "text/plain": [
       "tensor([115464, 136939, 222236, 134963,  87700, 215414,  70013,  65531,  68325,\n",
       "        206280, 133457, 151571, 208605, 106661,   2206, 159665, 134433, 158292,\n",
       "         87647, 198770, 150025,  27719,  27123, 184141, 119550,  46932, 110756,\n",
       "        227619,  33863, 207992, 177515, 116036])"
      ]
     },
     "execution_count": 107,
     "metadata": {},
     "output_type": "execute_result"
    }
   ],
   "source": [
    "# ix = torch.randint(0, X.shape[0], (32,))\n",
    "# ix"
   ]
  },
  {
   "cell_type": "code",
   "execution_count": 156,
   "id": "6c186d81",
   "metadata": {},
   "outputs": [
    {
     "data": {
      "text/plain": [
       "32033"
      ]
     },
     "execution_count": 156,
     "metadata": {},
     "output_type": "execute_result"
    }
   ],
   "source": [
    "# len(words)"
   ]
  },
  {
   "cell_type": "code",
   "execution_count": 223,
   "id": "c0470445",
   "metadata": {},
   "outputs": [
    {
     "name": "stdout",
     "output_type": "stream",
     "text": [
      "junide.\n",
      "canasah.\n",
      "parlay.\n",
      "adin.\n",
      "kailello.\n",
      "cassathe.\n",
      "kalania.\n",
      "zamilena.\n",
      "jadedailewi.\n",
      "tayse.\n",
      "sinayla.\n",
      "terinveumarif.\n",
      "demmer.\n",
      "finsleigh.\n",
      "ann.\n",
      "core.\n",
      "yae.\n",
      "ocklynna.\n",
      "din.\n",
      "jamiia.\n"
     ]
    }
   ],
   "source": [
    "# samnple from the model\n",
    "\n",
    "g = torch.Generator().manual_seed(2147483647)\n",
    "\n",
    "for i in range(20):\n",
    "    \n",
    "    out = []\n",
    "    context = [0] * block_size # contains index of each alpha initially '...'\n",
    "    while True:\n",
    "        emb = C[torch.tensor([context])] #(1, block_size, d)\n",
    "        h = torch.tanh(emb.view(1, -1) @ W1 + b1)\n",
    "        logits = h @ W2 + b2\n",
    "        probs = F.softmax(logits, dim=1)\n",
    "        ix = torch.multinomial(probs, num_samples = 1, generator=g).item()\n",
    "        context = context[1:] + [ix]\n",
    "        out.append(ix)\n",
    "        if ix == 0:\n",
    "            break\n",
    "        \n",
    "    print(''.join(itos[i] for i in out))"
   ]
  },
  {
   "cell_type": "code",
   "execution_count": null,
   "id": "2f1062b9",
   "metadata": {},
   "outputs": [],
   "source": []
  }
 ],
 "metadata": {
  "kernelspec": {
   "display_name": "Python 3 (ipykernel)",
   "language": "python",
   "name": "python3"
  },
  "language_info": {
   "codemirror_mode": {
    "name": "ipython",
    "version": 3
   },
   "file_extension": ".py",
   "mimetype": "text/x-python",
   "name": "python",
   "nbconvert_exporter": "python",
   "pygments_lexer": "ipython3",
   "version": "3.9.7"
  }
 },
 "nbformat": 4,
 "nbformat_minor": 5
}
