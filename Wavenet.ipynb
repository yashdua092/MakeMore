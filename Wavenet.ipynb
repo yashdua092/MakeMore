{
 "cells": [
  {
   "cell_type": "code",
   "execution_count": 1,
   "id": "2f57f293",
   "metadata": {},
   "outputs": [],
   "source": [
    "import torch\n",
    "import torch.nn.functional as F\n",
    "import matplotlib.pyplot as plt\n",
    "%matplotlib inline"
   ]
  },
  {
   "cell_type": "code",
   "execution_count": 2,
   "id": "bed4c3f3",
   "metadata": {},
   "outputs": [
    {
     "name": "stdout",
     "output_type": "stream",
     "text": [
      "32033\n",
      "['emma', 'olivia', 'ava', 'isabella', 'sophia', 'charlotte', 'mia', 'amelia']\n",
      "15\n"
     ]
    }
   ],
   "source": [
    "# reading in all the words\n",
    "words = open('names.txt', 'r').read().splitlines()\n",
    "print(len(words))\n",
    "print(words[:8])\n",
    "#print(type(words)) # splitlines returns a list\n",
    "print(max(len(w) for w in words))"
   ]
  },
  {
   "cell_type": "code",
   "execution_count": 3,
   "id": "177a92c8",
   "metadata": {},
   "outputs": [
    {
     "name": "stdout",
     "output_type": "stream",
     "text": [
      "{1: 'a', 2: 'b', 3: 'c', 4: 'd', 5: 'e', 6: 'f', 7: 'g', 8: 'h', 9: 'i', 10: 'j', 11: 'k', 12: 'l', 13: 'm', 14: 'n', 15: 'o', 16: 'p', 17: 'q', 18: 'r', 19: 's', 20: 't', 21: 'u', 22: 'v', 23: 'w', 24: 'x', 25: 'y', 26: 'z', 0: '.'}\n",
      "27\n"
     ]
    }
   ],
   "source": [
    "# building the vocanulary of characters and mappings to/from integers\n",
    "chars = sorted(list(set(''.join(words))))\n",
    "stoi = {s : i+1 for i, s in enumerate(chars)}\n",
    "stoi['.'] = 0\n",
    "itos = {i:s for s, i in stoi.items()}\n",
    "vocab_size = len(itos)\n",
    "print(itos)\n",
    "print(vocab_size)"
   ]
  },
  {
   "cell_type": "code",
   "execution_count": 4,
   "id": "108dd3d7",
   "metadata": {},
   "outputs": [],
   "source": [
    "import random\n",
    "random.seed(42)\n",
    "random.shuffle(words)"
   ]
  },
  {
   "cell_type": "code",
   "execution_count": 89,
   "id": "d2dfa128",
   "metadata": {},
   "outputs": [
    {
     "name": "stdout",
     "output_type": "stream",
     "text": [
      "torch.Size([182625, 8]) torch.Size([182625])\n",
      "torch.Size([22655, 8]) torch.Size([22655])\n",
      "torch.Size([22866, 8]) torch.Size([22866])\n"
     ]
    }
   ],
   "source": [
    "# building the dataset\n",
    "block_size = 8\n",
    "def build_dataset(words):\n",
    "    X, Y = [], []\n",
    "    for w in words:\n",
    "        \n",
    "        context = [0] * block_size\n",
    "        for ch in w + '.':\n",
    "            ix = stoi[ch]\n",
    "            X.append(context)\n",
    "            Y.append(ix)\n",
    "            context = context[1:] + [ix]\n",
    "            \n",
    "    X = torch.tensor(X)\n",
    "    Y = torch.tensor(Y)\n",
    "    print(X.shape, Y.shape)\n",
    "    return X, Y\n",
    "\n",
    "n1 = int(0.8*len(words))\n",
    "n2 = int(0.9*len(words))\n",
    "\n",
    "Xtr, Ytr = build_dataset(words[:n1])\n",
    "Xdev, Ydev = build_dataset(words[n1:n2])\n",
    "Xte, Yte = build_dataset(words[n2:])"
   ]
  },
  {
   "cell_type": "code",
   "execution_count": 60,
   "id": "fcadda96",
   "metadata": {},
   "outputs": [
    {
     "name": "stdout",
     "output_type": "stream",
     "text": [
      "........ ------> y\n",
      ".......y ------> u\n",
      "......yu ------> h\n",
      ".....yuh ------> e\n",
      "....yuhe ------> n\n",
      "...yuhen ------> g\n",
      "..yuheng ------> .\n",
      "........ ------> d\n",
      ".......d ------> i\n",
      "......di ------> o\n",
      ".....dio ------> n\n",
      "....dion ------> d\n",
      "...diond ------> r\n",
      "..diondr ------> e\n",
      ".diondre ------> .\n",
      "........ ------> x\n",
      ".......x ------> a\n",
      "......xa ------> v\n",
      ".....xav ------> i\n",
      "....xavi ------> e\n"
     ]
    }
   ],
   "source": [
    "for x, y in zip(Xtr[:20], Ytr[:20]):\n",
    "    print(''.join(itos[ix.item()] for ix in x), '------>', itos[y.item()])"
   ]
  },
  {
   "cell_type": "code",
   "execution_count": 138,
   "id": "e09b7fe7",
   "metadata": {},
   "outputs": [],
   "source": [
    "# training a deeper n/w\n",
    "\n",
    "class Linear:\n",
    "    \n",
    "    def __init__(self, fan_in, fan_out, bias=True): # fan_in = input_features, similarly out\n",
    "        self.weight = torch.randn((fan_in, fan_out)) / fan_in**0.5\n",
    "        self.bias = torch.zeros(fan_out) if bias else None\n",
    "        \n",
    "    def __call__(self, x):\n",
    "        self.out = x @ self.weight\n",
    "        if self.bias is not None:\n",
    "            self.out += self.bias\n",
    "        return self.out\n",
    "    \n",
    "    def parameters(self):\n",
    "        return [self.weight] + ([] if self.bias is None else [self.bias])\n",
    "    \n",
    "    \n",
    "class BatchNorm1d:\n",
    "    \n",
    "    def __init__(self, dim, eps=1e-5, momentum=0.1): # dim = num of features of input\n",
    "        self.eps = eps\n",
    "        self.momentum = momentum\n",
    "        self.training = True\n",
    "        # parameters (trained with backpropagation)\n",
    "        self.gamma = torch.ones(dim)\n",
    "        self.beta = torch.zeros(dim)\n",
    "        # buffers (trained with a running 'momentum update')\n",
    "        self.running_mean = torch.zeros(dim)\n",
    "        self.running_var = torch.ones(dim)\n",
    "        \n",
    "    def __call__(self, x):\n",
    "        # calculate the forward pass\n",
    "        if self.training: \n",
    "            if x.ndim == 2:\n",
    "                dim = 0\n",
    "            elif x.ndim == 3:\n",
    "                dim = (0, 1)\n",
    "            xmean = x.mean(dim, keepdim=True) # batch mean (instead of passing the 0th dimension alone now passed a tuple to get mean over 0th and 1st dimension as 3 dimensional tensor now)\n",
    "            xvar = x.var(dim, keepdim=True)\n",
    "        else: # while giving the single input while testing(not training)\n",
    "            xmean = self.running_mean\n",
    "            xvar = self.running_var\n",
    "        xhat = (x - xmean) / torch.sqrt(xvar + self.eps) # normalize to unit variance\n",
    "        self.out = self.gamma * xhat + self.beta\n",
    "        \n",
    "        # update the buffers\n",
    "        if self.training:\n",
    "            with torch.no_grad():\n",
    "                self.running_mean = (1 - self.momentum) * self.running_mean + self.momentum * xmean\n",
    "                self.running_var = (1 - self.momentum) * self.running_var + self.momentum * xvar\n",
    "        return self.out\n",
    "    \n",
    "    def parameters(self):\n",
    "        return [self.gamma, self.beta]\n",
    "    \n",
    "class Tanh:\n",
    "    def __call__(self, x):\n",
    "        self.out = torch.tanh(x)\n",
    "        return self.out\n",
    "    \n",
    "    def parameters(self):\n",
    "        return []\n",
    "    \n",
    "    \n",
    "class Embedding:\n",
    "    \n",
    "    def __init__(self, num_embeddings, embedding_dim):\n",
    "        self.weight = torch.randn((num_embeddings, embedding_dim))\n",
    "        \n",
    "    def __call__(self, IX):\n",
    "        self.out = self.weight[IX]\n",
    "        return self.out\n",
    "    \n",
    "    def parameters(self):\n",
    "        return [self.weight]\n",
    "    \n",
    "\n",
    "class FlattenConsecutive:\n",
    "    \n",
    "    def __init__(self, n): # n would signify how many characters to send to the next layer(2 in our case)\n",
    "        self.n = n\n",
    "    \n",
    "    def __call__(self, x):\n",
    "        B, T, C = x.shape\n",
    "        x = x.view(B, T//self.n, C*self.n)\n",
    "        if x.shape[1] == 1:\n",
    "            x = x.squeeze() # squeeze the first dimension ie like before will give 2 dimensional tensor\n",
    "        self.out = x\n",
    "        return self.out\n",
    "    \n",
    "    def parameters(self):\n",
    "        return []\n",
    "    \n",
    "\n",
    "class Sequential:\n",
    "    \n",
    "    def __init__(self, layers):\n",
    "        self.layers = layers\n",
    "        \n",
    "    def __call__(self, x):\n",
    "        for layer in self.layers:\n",
    "            x = layer(x)\n",
    "        self.out = x\n",
    "        return self.out\n",
    "    \n",
    "    def parameters(self):\n",
    "        # get the params of all the layers and stretch them into one list\n",
    "        return [p for layer in self.layers for p in layer.parameters()]"
   ]
  },
  {
   "cell_type": "code",
   "execution_count": 139,
   "id": "33b20dd2",
   "metadata": {},
   "outputs": [],
   "source": [
    "torch.manual_seed(42);"
   ]
  },
  {
   "cell_type": "code",
   "execution_count": 149,
   "id": "64887af2",
   "metadata": {},
   "outputs": [
    {
     "name": "stdout",
     "output_type": "stream",
     "text": [
      "76579\n"
     ]
    }
   ],
   "source": [
    "n_embed = 24 # the dimension of the character embedding vectors\n",
    "n_hidden = 128\n",
    "#C = torch.randn((vocab_size, n_embed))\n",
    "\n",
    "# list of layers required in MLP\n",
    "model = Sequential([\n",
    "    Embedding(vocab_size, n_embed),\n",
    "    FlattenConsecutive(2), Linear(n_embed * 2, n_hidden, bias = False),BatchNorm1d(n_hidden),Tanh(),\n",
    "    FlattenConsecutive(2), Linear(n_hidden * 2, n_hidden, bias = False),BatchNorm1d(n_hidden),Tanh(),\n",
    "    FlattenConsecutive(2), Linear(n_hidden * 2, n_hidden, bias = False),BatchNorm1d(n_hidden),Tanh(),\n",
    "    Linear(n_hidden, vocab_size),\n",
    "])\n",
    "\n",
    "\n",
    "# batch norm layer only taking mean over the 0th dimension, but tensors changed from 2 to 3 dimensions, so need to fix that.\n",
    "\n",
    "with torch.no_grad():\n",
    "    # last layer: make less confident (as seen above)\n",
    "    # since last layer has been updated to batchnorm1d, wont be changing the last layers's weight instead the factor gamma which multiplicatively interacts with the output of that normalization\n",
    "    #layers[-1].gamma *= 0.1\n",
    "    layers[-1].weight *= 0.1\n",
    "    # all other layers apply gain\n",
    "#     for layer in layers[:-1]:\n",
    "#         if isinstance(layer, Linear):\n",
    "#             layer.weight *= 5/3 # since using tanh\n",
    "            \n",
    "#parameters = [p for layer in layers for p in layer.parameters()]\n",
    "parameters = model.parameters()\n",
    "print(sum(p.nelement() for p in parameters)) # total parameters\n",
    "for p in parameters:\n",
    "    p.requires_grad = True"
   ]
  },
  {
   "cell_type": "code",
   "execution_count": 130,
   "id": "36609e43",
   "metadata": {},
   "outputs": [
    {
     "name": "stdout",
     "output_type": "stream",
     "text": [
      "Embedding : (4, 8, 10)\n",
      "FlattenConsecutive : (4, 4, 20)\n",
      "Linear : (4, 4, 200)\n",
      "BatchNorm1d : (4, 4, 200)\n",
      "Tanh : (4, 4, 200)\n",
      "FlattenConsecutive : (4, 2, 400)\n",
      "Linear : (4, 2, 200)\n",
      "BatchNorm1d : (4, 2, 200)\n",
      "Tanh : (4, 2, 200)\n",
      "FlattenConsecutive : (4, 400)\n",
      "Linear : (4, 200)\n",
      "BatchNorm1d : (4, 200)\n",
      "Tanh : (4, 200)\n",
      "Linear : (4, 27)\n"
     ]
    }
   ],
   "source": [
    "# # running the after block once before running this block to pass the input to model to work on, previously just initialized the layers\n",
    "\n",
    "# for layer in model.layers:\n",
    "#     print(layer.__class__.__name__, ':', tuple(layer.out.shape))"
   ]
  },
  {
   "cell_type": "markdown",
   "id": "2db3fd00",
   "metadata": {},
   "source": [
    "### example how to make a wavenet like architecture"
   ]
  },
  {
   "cell_type": "code",
   "execution_count": 129,
   "id": "7c603f26",
   "metadata": {},
   "outputs": [
    {
     "name": "stdout",
     "output_type": "stream",
     "text": [
      "torch.Size([4, 8])\n"
     ]
    },
    {
     "data": {
      "text/plain": [
       "tensor([[ 0,  0,  0,  0,  1,  2, 18,  9],\n",
       "        [ 0,  0,  0, 22,  9,  3, 20, 15],\n",
       "        [ 0,  0,  1, 14,  7,  5, 12,  5],\n",
       "        [19, 15,  3,  8,  9, 11,  1,  9]])"
      ]
     },
     "execution_count": 129,
     "metadata": {},
     "output_type": "execute_result"
    }
   ],
   "source": [
    "# ix = torch.randint(0, Xtr.shape[0], (4,)) # taking 4 as a batch size here each of 8 characters and each character of 10 dim\n",
    "# Xb, Yb = Xtr[ix], Ytr[ix]\n",
    "# logits = model(Xb)\n",
    "# print(Xb.shape)\n",
    "# Xb"
   ]
  },
  {
   "cell_type": "code",
   "execution_count": 69,
   "id": "dd407f9b",
   "metadata": {},
   "outputs": [
    {
     "data": {
      "text/plain": [
       "torch.Size([4, 8, 10])"
      ]
     },
     "execution_count": 69,
     "metadata": {},
     "output_type": "execute_result"
    }
   ],
   "source": [
    "# model.layers[0].out.shape # model a object of sequential, has layers, each layer stores it's output in out which is accessed.\n",
    "# # embedding layer"
   ]
  },
  {
   "cell_type": "code",
   "execution_count": 70,
   "id": "3daa9e2b",
   "metadata": {},
   "outputs": [
    {
     "data": {
      "text/plain": [
       "torch.Size([4, 80])"
      ]
     },
     "execution_count": 70,
     "metadata": {},
     "output_type": "execute_result"
    }
   ],
   "source": [
    "# model.layers[1].out.shape # flatten (all 8 characters into a single row) and columns being the batch size"
   ]
  },
  {
   "cell_type": "code",
   "execution_count": 71,
   "id": "3bde6b35",
   "metadata": {},
   "outputs": [
    {
     "data": {
      "text/plain": [
       "torch.Size([4, 200])"
      ]
     },
     "execution_count": 71,
     "metadata": {},
     "output_type": "execute_result"
    }
   ],
   "source": [
    "# model.layers[2].out.shape # linear multiplied with (80, 200) weight matrix"
   ]
  },
  {
   "cell_type": "code",
   "execution_count": 72,
   "id": "499c4bab",
   "metadata": {},
   "outputs": [
    {
     "data": {
      "text/plain": [
       "torch.Size([4, 4, 200])"
      ]
     },
     "execution_count": 72,
     "metadata": {},
     "output_type": "execute_result"
    }
   ],
   "source": [
    "# (torch.randn(4,4,20) @ torch.randn(20, 200) + torch.randn(200)).shape # here only last dimension should match, and @ can be used\n",
    "# # so this feature of '@' can be used to implement wavenet architecture where all the contexts are not fed together to next\n",
    "# # layer, instead 2 charcters are fed here\n",
    "# # so need to change the flatten layer that changes (4, 8, 10) to (4, 4, 20) and then multiplied with weight matrix.\n",
    "# # basically flatten layer creates this mini batch of 2 charcaters inside a batch for us.\n",
    "# # so does change the linear layer as well, the dim of weight matrix, how many numbers it should expect here 20.\n",
    "\n",
    "# # block_size = 8, n_embed = 10 ( 8 characters of 10 dimension each to predict the next character)\n",
    "# # need to feed only 2 character each so 2x10 and total 4 so \n",
    "# (1,2), (3,4), (5,6), (7,8) # process all of them in parallel"
   ]
  },
  {
   "cell_type": "code",
   "execution_count": 80,
   "id": "dc0e72d0",
   "metadata": {},
   "outputs": [
    {
     "data": {
      "text/plain": [
       "torch.Size([4, 4, 20])"
      ]
     },
     "execution_count": 80,
     "metadata": {},
     "output_type": "execute_result"
    }
   ],
   "source": [
    "# e = torch.randn(4, 8, 10)\n",
    "# explicit = torch.cat([e[:, ::2, :], e[:, 1::2, :]], dim=2)\n",
    "# explicit.shape\n",
    "# explicit\n",
    "# # taking all the even characters and the odd characters and placing them right next to each other\n",
    "# # (0,1),(2,3),(4,5),(6,7)"
   ]
  },
  {
   "cell_type": "code",
   "execution_count": 81,
   "id": "7b874bf6",
   "metadata": {},
   "outputs": [
    {
     "data": {
      "text/plain": [
       "tensor(True)"
      ]
     },
     "execution_count": 81,
     "metadata": {},
     "output_type": "execute_result"
    }
   ],
   "source": [
    "# # could also be done this way using view only\n",
    "# (e.view(4,4,20) == explicit).all()"
   ]
  },
  {
   "cell_type": "markdown",
   "id": "48a2876b",
   "metadata": {},
   "source": [
    "### end of the example"
   ]
  },
  {
   "cell_type": "code",
   "execution_count": 150,
   "id": "f0e149d2",
   "metadata": {},
   "outputs": [
    {
     "name": "stdout",
     "output_type": "stream",
     "text": [
      "      0/  50000: 3.5936\n",
      "  10000/  50000: 2.0988\n",
      "  20000/  50000: 2.3559\n",
      "  30000/  50000: 1.8906\n",
      "  40000/  50000: 1.9149\n"
     ]
    }
   ],
   "source": [
    "max_steps =  50000\n",
    "batch_size = 32\n",
    "lossi = []\n",
    "\n",
    "for i in range(max_steps):\n",
    "    \n",
    "    # minibatch construct\n",
    "    ix = torch.randint(0, Xtr.shape[0], (batch_size,))\n",
    "    Xb, Yb = Xtr[ix], Ytr[ix] # batch X, Y\n",
    "    \n",
    "    # forward pass\n",
    "#     x = Xb\n",
    "# #     emb = C[Xb]\n",
    "# #     x = emb.view(emb.shape[0], -1)\n",
    "#     for layer in layers:\n",
    "#         x = layer(x) # Linear was already initialized above now calling only to get Y of that layer and stored in x\n",
    "#     loss = F.cross_entropy(x, Yb) # comparing final logits and Yb\n",
    "\n",
    "    # forward pass\n",
    "    logits = model(Xb)\n",
    "    loss = F.cross_entropy(logits, Yb)\n",
    "    \n",
    "    # backward pass\n",
    "    for p in parameters:\n",
    "        p.grad = None\n",
    "    loss.backward()\n",
    "    \n",
    "    # update\n",
    "    lr = 0.1 if i < 150000 else 0.01\n",
    "    for p in parameters:\n",
    "        p.data += -lr * p.grad\n",
    "    \n",
    "    # track stats\n",
    "    if i%10000 == 0:\n",
    "        print(f'{i:7d}/{max_steps:7d}: {loss.item():.4f}')\n",
    "    lossi.append(loss.log10().item())"
   ]
  },
  {
   "cell_type": "code",
   "execution_count": 134,
   "id": "709fd808",
   "metadata": {},
   "outputs": [],
   "source": [
    "#plt.plot(lossi)"
   ]
  },
  {
   "cell_type": "code",
   "execution_count": 144,
   "id": "3812dfa8",
   "metadata": {},
   "outputs": [
    {
     "data": {
      "text/plain": [
       "[<matplotlib.lines.Line2D at 0x206ecee4c70>]"
      ]
     },
     "execution_count": 144,
     "metadata": {},
     "output_type": "execute_result"
    },
    {
     "data": {
      "image/png": "[encoded data removed]",
      "text/plain": [
       "<Figure size 432x288 with 1 Axes>"
      ]
     },
     "metadata": {
      "needs_background": "light"
     },
     "output_type": "display_data"
    }
   ],
   "source": [
    "# plotting a much better loss curve\n",
    "plt.plot(torch.tensor(lossi).view(-1, 1000).mean(1))"
   ]
  },
  {
   "cell_type": "code",
   "execution_count": 151,
   "id": "82220cce",
   "metadata": {},
   "outputs": [
    {
     "name": "stdout",
     "output_type": "stream",
     "text": [
      "train 1.9709885120391846\n",
      "val 2.0740771293640137\n"
     ]
    }
   ],
   "source": [
    "# evaluate the loss\n",
    "@torch.no_grad() # this decorator disabless gradient tarcking\n",
    "def split_loss(split):\n",
    "    x, y = {\n",
    "        'train' : {Xtr, Ytr},\n",
    "        'val' : {Xdev, Ydev},\n",
    "        'test' : {Xte, Yte},\n",
    "    }[split]\n",
    "    \n",
    "#     emb = C[x] #(N, block_size, n_embd(10))\n",
    "#     x = emb.view(emb.shape[0], -1)\n",
    "#     for layer in layers:\n",
    "#         x = layer(x)\n",
    "    logits = model(x)\n",
    "    loss = F.cross_entropy(logits, y)\n",
    "    print(split, loss.item())\n",
    "    \n",
    "split_loss('train')\n",
    "split_loss('val')"
   ]
  },
  {
   "cell_type": "code",
   "execution_count": 162,
   "id": "5359ae99",
   "metadata": {},
   "outputs": [],
   "source": [
    "# put layers into eval mode(needed especially for batchnorm layer(due to mean and std))\n",
    "for layer in model.layers:\n",
    "    layer.training = False"
   ]
  },
  {
   "cell_type": "code",
   "execution_count": 164,
   "id": "0159aca4",
   "metadata": {},
   "outputs": [
    {
     "name": "stdout",
     "output_type": "stream",
     "text": [
      "emadelin.\n",
      "phar.\n",
      "ketta.\n",
      "lua.\n",
      "inar.\n",
      "fenne.\n",
      "xaviana.\n",
      "danika.\n",
      "zharee.\n",
      "addin.\n",
      "mazalyna.\n",
      "makinley.\n",
      "dreyra.\n",
      "kola.\n",
      "malay.\n",
      "karrin.\n",
      "marie.\n",
      "zatalia.\n",
      "kevan.\n",
      "bogan.\n"
     ]
    }
   ],
   "source": [
    "# sample from the model\n",
    "for _ in range(20):\n",
    "    \n",
    "    out = []\n",
    "    context = [0] * block_size # contains index of each alpha initially '...'\n",
    "    while True:\n",
    "        logits = model(torch.tensor([context]))\n",
    "#         emb = C[torch.tensor([context])] #(1, block_size, d)\n",
    "#         x = emb.view(emb.shape[0], -1)\n",
    "#         for layer in layers:\n",
    "#             x = layer(x)\n",
    "#         logits = x # gives the count\n",
    "        probs = F.softmax(logits, dim=1)\n",
    "        ix = torch.multinomial(probs, num_samples = 1).item()\n",
    "        context = context[1:] + [ix]\n",
    "        out.append(ix)\n",
    "        if ix == 0:\n",
    "            break\n",
    "        \n",
    "    print(''.join(itos[i] for i in out))"
   ]
  },
  {
   "cell_type": "code",
   "execution_count": 207,
   "id": "cd54abd6",
   "metadata": {},
   "outputs": [
    {
     "name": "stdout",
     "output_type": "stream",
     "text": [
      "suncyn.\n",
      "sunae.\n",
      "suno.\n",
      "sunceker.\n",
      "suncen.\n",
      "suna.\n",
      "sunnie.\n",
      "sunaira.\n",
      "sunta.\n",
      "sunneenar.\n",
      "sunce.\n",
      "sundrar.\n",
      "sunnie.\n",
      "sunsiyah.\n",
      "sunaleigh.\n",
      "suncema.\n",
      "sun.\n",
      "sunica.\n",
      "sunana.\n",
      "sundin.\n"
     ]
    }
   ],
   "source": [
    "# sample from the model\n",
    "\n",
    "# asking model to predict names starting from 'sun'\n",
    "for _ in range(20):\n",
    "    \n",
    "    out = [19, 21, 14]\n",
    "    context = [0] * block_size # contains index of each alpha initially '...'\n",
    "    context = context[1:] + [stoi['s']]\n",
    "    context = context[1:] + [stoi['u']]\n",
    "    context = context[1:] + [stoi['n']]\n",
    "    while True:\n",
    "        logits = model(torch.tensor([context]))\n",
    "#         emb = C[torch.tensor([context])] #(1, block_size, d)\n",
    "#         x = emb.view(emb.shape[0], -1)\n",
    "#         for layer in layers:\n",
    "#             x = layer(x)\n",
    "#         logits = x # gives the count\n",
    "        probs = F.softmax(logits, dim=1)\n",
    "        ix = torch.multinomial(probs, num_samples = 1).item()\n",
    "        context = context[1:] + [ix]\n",
    "        out.append(ix)\n",
    "        if ix == 0:\n",
    "            break\n",
    "        \n",
    "    print(''.join(itos[i] for i in out))"
   ]
  },
  {
   "cell_type": "code",
   "execution_count": 206,
   "id": "32e4314a",
   "metadata": {},
   "outputs": [
    {
     "data": {
      "text/plain": [
       "(19, 21, 14)"
      ]
     },
     "execution_count": 206,
     "metadata": {},
     "output_type": "execute_result"
    }
   ],
   "source": [
    "stoi['s'], stoi['u'], stoi['n']"
   ]
  },
  {
   "cell_type": "code",
   "execution_count": null,
   "id": "5f9311d7",
   "metadata": {},
   "outputs": [],
   "source": []
  }
 ],
 "metadata": {
  "kernelspec": {
   "display_name": "Python 3 (ipykernel)",
   "language": "python",
   "name": "python3"
  },
  "language_info": {
   "codemirror_mode": {
    "name": "ipython",
    "version": 3
   },
   "file_extension": ".py",
   "mimetype": "text/x-python",
   "name": "python",
   "nbconvert_exporter": "python",
   "pygments_lexer": "ipython3",
   "version": "3.9.7"
  }
 },
 "nbformat": 4,
 "nbformat_minor": 5
}
